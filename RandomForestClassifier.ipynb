{
    "cells": [
        {
            "cell_type": "code",
            "execution_count": 1,
            "id": "daily-humanity",
            "metadata": {},
            "outputs": [],
            "source": "# The code was removed by Watson Studio for sharing."
        },
        {
            "cell_type": "code",
            "execution_count": 2,
            "id": "8f71dbc2-3d84-4378-84e9-469eff1fece4",
            "metadata": {},
            "outputs": [],
            "source": "#Importar las bibliotecas que ser\u00e1n necesarias\nimport pandas as pd\nimport numpy as np\nfrom sklearn.preprocessing import StandardScaler\nfrom sklearn.model_selection import GridSearchCV\nfrom sklearn.ensemble import RandomForestClassifier"
        },
        {
            "cell_type": "code",
            "execution_count": 3,
            "id": "905836ed-a19b-4d00-82f0-f1fd9e74e0f8",
            "metadata": {},
            "outputs": [
                {
                    "data": {
                        "text/html": "<div>\n<style scoped>\n    .dataframe tbody tr th:only-of-type {\n        vertical-align: middle;\n    }\n\n    .dataframe tbody tr th {\n        vertical-align: top;\n    }\n\n    .dataframe thead th {\n        text-align: right;\n    }\n</style>\n<table border=\"1\" class=\"dataframe\">\n  <thead>\n    <tr style=\"text-align: right;\">\n      <th></th>\n      <th>feature1</th>\n      <th>feature2</th>\n      <th>feature3</th>\n      <th>feature4</th>\n      <th>feature5</th>\n      <th>feature6</th>\n      <th>feature7</th>\n      <th>feature8</th>\n      <th>target</th>\n    </tr>\n  </thead>\n  <tbody>\n    <tr>\n      <th>0</th>\n      <td>-0.458258</td>\n      <td>-0.579012</td>\n      <td>2.886009</td>\n      <td>-0.075516</td>\n      <td>1.674060</td>\n      <td>-2.431912</td>\n      <td>0.534850</td>\n      <td>-0.846473</td>\n      <td>2</td>\n    </tr>\n    <tr>\n      <th>1</th>\n      <td>1.626615</td>\n      <td>-0.028332</td>\n      <td>-1.443184</td>\n      <td>-1.007447</td>\n      <td>-0.989093</td>\n      <td>1.202627</td>\n      <td>-0.038211</td>\n      <td>-1.298616</td>\n      <td>0</td>\n    </tr>\n    <tr>\n      <th>2</th>\n      <td>1.721356</td>\n      <td>-0.137676</td>\n      <td>-1.322593</td>\n      <td>-1.333187</td>\n      <td>-0.723713</td>\n      <td>0.843285</td>\n      <td>-0.588495</td>\n      <td>0.066682</td>\n      <td>0</td>\n    </tr>\n    <tr>\n      <th>3</th>\n      <td>-0.715103</td>\n      <td>3.265915</td>\n      <td>-0.791030</td>\n      <td>-2.967881</td>\n      <td>2.497628</td>\n      <td>-0.277387</td>\n      <td>-0.551611</td>\n      <td>0.668354</td>\n      <td>2</td>\n    </tr>\n    <tr>\n      <th>4</th>\n      <td>2.944098</td>\n      <td>0.197871</td>\n      <td>-2.257025</td>\n      <td>1.032789</td>\n      <td>-4.104693</td>\n      <td>4.716115</td>\n      <td>-0.380813</td>\n      <td>-1.393825</td>\n      <td>0</td>\n    </tr>\n  </tbody>\n</table>\n</div>",
                        "text/plain": "   feature1  feature2  feature3  feature4  feature5  feature6  feature7  \\\n0 -0.458258 -0.579012  2.886009 -0.075516  1.674060 -2.431912  0.534850   \n1  1.626615 -0.028332 -1.443184 -1.007447 -0.989093  1.202627 -0.038211   \n2  1.721356 -0.137676 -1.322593 -1.333187 -0.723713  0.843285 -0.588495   \n3 -0.715103  3.265915 -0.791030 -2.967881  2.497628 -0.277387 -0.551611   \n4  2.944098  0.197871 -2.257025  1.032789 -4.104693  4.716115 -0.380813   \n\n   feature8  target  \n0 -0.846473       2  \n1 -1.298616       0  \n2  0.066682       0  \n3  0.668354       2  \n4 -1.393825       0  "
                    },
                    "execution_count": 3,
                    "metadata": {},
                    "output_type": "execute_result"
                }
            ],
            "source": "# The code was removed by Watson Studio for sharing."
        },
        {
            "cell_type": "code",
            "execution_count": 4,
            "id": "visible-glenn",
            "metadata": {},
            "outputs": [
                {
                    "data": {
                        "text/html": "<div>\n<style scoped>\n    .dataframe tbody tr th:only-of-type {\n        vertical-align: middle;\n    }\n\n    .dataframe tbody tr th {\n        vertical-align: top;\n    }\n\n    .dataframe thead th {\n        text-align: right;\n    }\n</style>\n<table border=\"1\" class=\"dataframe\">\n  <thead>\n    <tr style=\"text-align: right;\">\n      <th></th>\n      <th>feature1</th>\n      <th>feature2</th>\n      <th>feature3</th>\n      <th>feature4</th>\n      <th>feature5</th>\n      <th>feature6</th>\n      <th>feature7</th>\n      <th>feature8</th>\n    </tr>\n  </thead>\n  <tbody>\n    <tr>\n      <th>0</th>\n      <td>0.052199</td>\n      <td>2.514513</td>\n      <td>-0.197672</td>\n      <td>1.978709</td>\n      <td>-2.014691</td>\n      <td>3.852886</td>\n      <td>-2.126254</td>\n      <td>0.794624</td>\n    </tr>\n    <tr>\n      <th>1</th>\n      <td>-0.828073</td>\n      <td>0.085895</td>\n      <td>1.712522</td>\n      <td>0.078828</td>\n      <td>1.280057</td>\n      <td>-1.462486</td>\n      <td>2.469702</td>\n      <td>0.816540</td>\n    </tr>\n    <tr>\n      <th>2</th>\n      <td>-1.086411</td>\n      <td>-0.142109</td>\n      <td>0.013089</td>\n      <td>-0.115223</td>\n      <td>0.948242</td>\n      <td>-1.121574</td>\n      <td>0.517415</td>\n      <td>0.250672</td>\n    </tr>\n    <tr>\n      <th>3</th>\n      <td>0.093129</td>\n      <td>2.868934</td>\n      <td>-0.075120</td>\n      <td>0.650641</td>\n      <td>-0.886186</td>\n      <td>2.917352</td>\n      <td>-0.722935</td>\n      <td>0.063071</td>\n    </tr>\n    <tr>\n      <th>4</th>\n      <td>0.046167</td>\n      <td>2.822612</td>\n      <td>0.433869</td>\n      <td>-3.054525</td>\n      <td>2.537684</td>\n      <td>-0.717312</td>\n      <td>0.862266</td>\n      <td>-0.525491</td>\n    </tr>\n  </tbody>\n</table>\n</div>",
                        "text/plain": "   feature1  feature2  feature3  feature4  feature5  feature6  feature7  \\\n0  0.052199  2.514513 -0.197672  1.978709 -2.014691  3.852886 -2.126254   \n1 -0.828073  0.085895  1.712522  0.078828  1.280057 -1.462486  2.469702   \n2 -1.086411 -0.142109  0.013089 -0.115223  0.948242 -1.121574  0.517415   \n3  0.093129  2.868934 -0.075120  0.650641 -0.886186  2.917352 -0.722935   \n4  0.046167  2.822612  0.433869 -3.054525  2.537684 -0.717312  0.862266   \n\n   feature8  \n0  0.794624  \n1  0.816540  \n2  0.250672  \n3  0.063071  \n4 -0.525491  "
                    },
                    "execution_count": 4,
                    "metadata": {},
                    "output_type": "execute_result"
                }
            ],
            "source": "#sp: Crear el marco de datos de prueba\n#EN: Create test dataframe\nbody = client_1731e53444e54241a5f4c7fd9b23b87b.get_object(Bucket='nuwechallenges-donotdelete-pr-vqtclvgfnzr8if',Key='uoc_X_test.csv')['Body']\n# add missing __iter__ method, so pandas accepts body as file-like object\nif not hasattr(body, \"__iter__\"): body.__iter__ = types.MethodType( __iter__, body )\n\nx_test = pd.read_csv(body)\nx_test.head()\n"
        },
        {
            "cell_type": "code",
            "execution_count": 5,
            "id": "42174cf3-2b0c-4a8f-a4f8-98d4d76b384c",
            "metadata": {},
            "outputs": [
                {
                    "data": {
                        "text/plain": "(2100, 9)"
                    },
                    "execution_count": 5,
                    "metadata": {},
                    "output_type": "execute_result"
                }
            ],
            "source": "#Veamos el tama\u00f1o total de nuestro marco de datos\ndf_train.shape"
        },
        {
            "cell_type": "code",
            "execution_count": 6,
            "id": "21ea0cc2-7d88-4cbe-956f-109e7bbb1ae9",
            "metadata": {},
            "outputs": [
                {
                    "data": {
                        "text/plain": "feature1    0\nfeature2    0\nfeature3    0\nfeature4    0\nfeature5    0\nfeature6    0\nfeature7    0\nfeature8    0\ntarget      0\ndtype: int64"
                    },
                    "execution_count": 6,
                    "metadata": {},
                    "output_type": "execute_result"
                }
            ],
            "source": "#Compruebo que no faltan datos\ndf_train.isnull().sum()"
        },
        {
            "cell_type": "code",
            "execution_count": 7,
            "id": "08e723e3-f7b7-45a9-8baa-16baef3bf40d",
            "metadata": {},
            "outputs": [
                {
                    "data": {
                        "text/plain": "feature1    float64\nfeature2    float64\nfeature3    float64\nfeature4    float64\nfeature5    float64\nfeature6    float64\nfeature7    float64\nfeature8    float64\ntarget        int64\ndtype: object"
                    },
                    "execution_count": 7,
                    "metadata": {},
                    "output_type": "execute_result"
                }
            ],
            "source": "#Compruebo el tipo de datos\ndf_train.dtypes"
        },
        {
            "cell_type": "code",
            "execution_count": 8,
            "id": "7d8b1634-e1d8-4ee0-ab4a-f55e148c406d",
            "metadata": {},
            "outputs": [
                {
                    "data": {
                        "text/plain": "0    713\n1    705\n2    682\nName: target, dtype: int64"
                    },
                    "execution_count": 8,
                    "metadata": {},
                    "output_type": "execute_result"
                }
            ],
            "source": "#Vemos la cantidad de resultados en target previo a definirlos\ndf_train['target'].value_counts()"
        },
        {
            "cell_type": "markdown",
            "id": "c9ef11be-b598-4da4-be49-766bdf2f42e8",
            "metadata": {},
            "source": "## Descripci\u00f3n de las etiquetas\n\n<li> Buena calidad del aire (target 0): 713 observaciones. </li>\n<li> Calidad moderada del aire (target 1): 705 observaciones. </li>\n<li> Mala calidad del aire (target 3): 682 observaciones. </li>"
        },
        {
            "cell_type": "code",
            "execution_count": 9,
            "id": "c9e1871a-a729-4546-bed0-94d7b6a9d4d8",
            "metadata": {},
            "outputs": [
                {
                    "data": {
                        "text/plain": "(2100, 8)"
                    },
                    "execution_count": 9,
                    "metadata": {},
                    "output_type": "execute_result"
                }
            ],
            "source": "#Ahora procedo a dividir el set de datos de prueba en variables independientes(x) y variable predictora(y)\nX_train = df_train[['feature1', 'feature2', 'feature3', 'feature4', 'feature5', 'feature6', 'feature7', 'feature8']]\nX_train.shape"
        },
        {
            "cell_type": "code",
            "execution_count": 10,
            "id": "2abcc277-0fc1-4ae7-b2e2-909dac91557e",
            "metadata": {},
            "outputs": [
                {
                    "data": {
                        "text/html": "<div>\n<style scoped>\n    .dataframe tbody tr th:only-of-type {\n        vertical-align: middle;\n    }\n\n    .dataframe tbody tr th {\n        vertical-align: top;\n    }\n\n    .dataframe thead th {\n        text-align: right;\n    }\n</style>\n<table border=\"1\" class=\"dataframe\">\n  <thead>\n    <tr style=\"text-align: right;\">\n      <th></th>\n      <th>target</th>\n    </tr>\n  </thead>\n  <tbody>\n    <tr>\n      <th>0</th>\n      <td>2</td>\n    </tr>\n    <tr>\n      <th>1</th>\n      <td>0</td>\n    </tr>\n    <tr>\n      <th>2</th>\n      <td>0</td>\n    </tr>\n    <tr>\n      <th>3</th>\n      <td>2</td>\n    </tr>\n    <tr>\n      <th>4</th>\n      <td>0</td>\n    </tr>\n  </tbody>\n</table>\n</div>",
                        "text/plain": "   target\n0       2\n1       0\n2       0\n3       2\n4       0"
                    },
                    "execution_count": 10,
                    "metadata": {},
                    "output_type": "execute_result"
                }
            ],
            "source": "Y_train = df_train[['target']]\nY_train.head()"
        },
        {
            "cell_type": "code",
            "execution_count": 11,
            "id": "5a3ce1af-4ded-4567-8413-c3c64de7549f",
            "metadata": {},
            "outputs": [],
            "source": "#Con el set de prueba listo, procedo a estandarizar \nscaler = StandardScaler()\nX = scaler.fit_transform(X_train)\n\n#Numpy array para y\ny = Y_train.to_numpy()"
        },
        {
            "cell_type": "code",
            "execution_count": 12,
            "id": "f249e729-af73-49dd-a928-f72a6e2bec5c",
            "metadata": {
                "jupyter": {
                    "outputs_hidden": true
                },
                "tags": []
            },
            "outputs": [],
            "source": "#Es momento de buscar los mejores par\u00e1metros para RandomForest\nrand_for = RandomForestClassifier(n_jobs=-1,max_features= 'sqrt' ,n_estimators=50, oob_score = True) \n\nparam_grid = { \n    'n_estimators': [200, 700],\n    'max_features': ['auto', 'sqrt', 'log2']\n}\n\nCV_rfc = GridSearchCV(estimator=rand_for, param_grid=param_grid, cv= 5)\nCV_rfc.fit(X, np.ravel(y))\nbest_params = CV_rfc.best_params_"
        },
        {
            "cell_type": "code",
            "execution_count": 13,
            "id": "fe28ed3d-a5bd-4fc1-8fdd-534becf490a7",
            "metadata": {},
            "outputs": [
                {
                    "name": "stdout",
                    "output_type": "stream",
                    "text": "{'max_features': 'log2', 'n_estimators': 700}\n"
                }
            ],
            "source": "print(best_params)"
        },
        {
            "cell_type": "code",
            "execution_count": 14,
            "id": "2fbbba0c-2c05-4d7a-a294-799da9587c78",
            "metadata": {
                "jupyter": {
                    "outputs_hidden": true
                },
                "tags": []
            },
            "outputs": [
                {
                    "name": "stdout",
                    "output_type": "stream",
                    "text": "[0 2 1 0 2 1 2 0 1 1 0 1 1 1 2 2 2 1 1 0 0 0 1 0 0 1 1 1 1 2 0 1 2 1 2 0 0\n 2 1 0 1 1 2 1 1 0 0 0 1 2 2 0 1 0 0 2 0 2 2 0 1 0 2 0 1 0 1 2 1 0 0 0 2 0\n 2 0 0 0 1 1 2 2 2 1 2 0 0 2 0 1 0 0 0 0 0 2 2 1 1 2 0 0 0 2 0 2 2 1 0 1 2\n 0 1 2 2 1 2 2 1 0 0 1 2 1 1 1 2 1 1 1 1 1 2 0 0 1 2 0 0 2 0 2 2 1 0 2 1 2\n 1 2 1 1 1 2 0 2 1 1 2 1 0 1 2 1 0 2 0 2 1 0 1 1 0 2 0 2 2 0 0 2 1 1 0 1 0\n 1 0 2 1 1 0 0 1 2 2 0 2 2 1 1 0 2 2 2 1 1 2 1 0 2 0 0 1 1 1 0 1 1 0 1 1 1\n 1 0 2 2 1 1 1 2 0 1 2 1 2 0 1 2 2 1 0 2 2 0 1 0 0 0 1 2 1 2 1 2 1 0 0 1 1\n 2 1 2 0 2 1 2 0 2 0 1 1 2 1 2 1 0 0 2 1 2 1 1 1 0 1 2 1 0 1 1 0 1 0 1 0 0\n 1 2 0 2 1 2 0 0 2 2 2 0 1 1 0 2 1 1 0 0 2 1 2 2 0 1 0 2 2 0 2 1 2 1 2 1 1\n 2 0 1 1 0 1 1 1 1 2 0 0 1 2 2 1 0 0 2 2 1 1 1 2 2 2 1 2 2 0 1 0 2 0 1 1 2\n 2 2 0 1 2 2 0 1 2 0 2 0 1 0 1 1 2 1 1 2 2 1 1 2 0 2 1 2 0 2 2 2 2 2 0 0 2\n 0 0 2 0 1 1 1 2 2 1 0 2 2 0 0 1 0 1 1 1 1 1 1 0 1 2 0 1 1 2 0 2 0 1 1 1 2\n 0 2 1 2 2 2 1 0 0 0 2 0 1 2 0 2 1 2 0 2 0 2 1 0 1 0 2 0 2 2 0 1 1 2 0 2 0\n 1 2 0 2 0 1 2 2 0 2 2 0 2 2 2 1 1 2 2 1 2 2 2 0 1 1 2 0 0 2 1 0 0 0 0 1 0\n 2 1 0 1 1 0 0 2 2 0 0 1 2 2 2 2 2 1 0 2 1 1 1 2 2 2 2 2 0 0 1 1 0 0 2 0 1\n 2 2 0 0 2 1 1 0 2 2 2 0 2 0 1 1 2 2 2 0 2 0 2 0 2 2 0 0 0 1 0 0 1 2 1 1 0\n 0 2 0 0 2 0 0 1 1 0 0 1 0 1 0 2 2 2 1 0 2 1 2 1 1 2 0 2 1 2 0 2 1 0 0 0 2\n 0 0 1 2 2 2 2 2 0 2 2 0 2 0 2 1 0 1 0 2 1 2 1 0 2 0 1 0 0 1 2 0 0 2 0 1 0\n 0 0 1 0 1 1 1 1 2 0 0 2 1 0 2 0 2 1 1 0 2 0 2 2 0 0 1 2 2 0 2 2 1 1 1 1 1\n 2 2 1 0 2 0 2 2 1 1 1 0 2 2 1 0 1 0 0 1 1 0 2 1 0 1 2 0 0 1 2 0 0 1 2 2 1\n 2 1 2 0 1 2 2 0 2 2 0 0 1 1 2 1 0 2 0 0 0 1 2 0 1 0 2 2 2 0 2 1 1 1 1 1 1\n 1 0 2 2 0 2 0 2 1 2 1 0 2 0 1 2 2 2 1 2 0 2 2 2 1 2 0 1 2 0 1 1 0 2 0 2 2\n 2 2 0 1 2 0 0 2 2 1 0 0 1 0 1 0 0 1 1 0 2 0 2 0 2 0 2 2 1 0 1 1 2 1 2 2 2\n 1 1 1 1 2 0 1 1 1 2 2 1 1 2 1 0 1 1 1 2 0 0 0 2 2 2 1 2 0 2 2 0 2 0 1 2 0\n 1 2 1 0 1 0 1 1 2 2 2 2]\n"
                }
            ],
            "source": "#Escalar el set de prueba\nx_ = scaler.fit_transform(x_test)\n\n#Ajustar los par\u00e1metros para hacer la predicci\u00f3n\nrfc = RandomForestClassifier(n_jobs=-1,max_features= 'log2' ,n_estimators=700, oob_score = True)\nrfc.fit(X, np.ravel(y))\nyhat = rfc.predict(x_)\n\nprint(yhat)"
        },
        {
            "cell_type": "code",
            "execution_count": 17,
            "id": "37111a0d-6930-4463-96a3-1cff0885d24e",
            "metadata": {},
            "outputs": [
                {
                    "data": {
                        "text/plain": "{'file_name': 'predicciones.csv',\n 'message': 'File saved to project storage.',\n 'bucket_name': 'nuwechallenges-donotdelete-pr-vqtclvgfnzr8if',\n 'asset_id': '1f8203df-9ea4-4737-92ba-7c632e5ec0c5'}"
                    },
                    "execution_count": 17,
                    "metadata": {},
                    "output_type": "execute_result"
                }
            ],
            "source": "# The code was removed by Watson Studio for sharing."
        },
        {
            "cell_type": "code",
            "execution_count": null,
            "metadata": {},
            "outputs": [],
            "source": "#Guardar las predicciones en csv.\nproject.save_data(data=pd.DataFrame(yhat, columns=['Predictions']).to_csv(index=False),file_name='predicciones.csv',overwrite=True)"
        }
    ],
    "metadata": {
        "kernelspec": {
            "display_name": "Python 3.8",
            "language": "python",
            "name": "python3"
        },
        "language_info": {
            "codemirror_mode": {
                "name": "ipython",
                "version": 3
            },
            "file_extension": ".py",
            "mimetype": "text/x-python",
            "name": "python",
            "nbconvert_exporter": "python",
            "pygments_lexer": "ipython3",
            "version": "3.8.12"
        }
    },
    "nbformat": 4,
    "nbformat_minor": 5
}
